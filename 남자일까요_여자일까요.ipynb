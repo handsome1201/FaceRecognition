{
  "cells": [
    {
      "cell_type": "markdown",
      "metadata": {
        "id": "view-in-github",
        "colab_type": "text"
      },
      "source": [
        "<a href=\"https://colab.research.google.com/github/handsome1201/FaceRecognition/blob/master/%EB%82%A8%EC%9E%90%EC%9D%BC%EA%B9%8C%EC%9A%94_%EC%97%AC%EC%9E%90%EC%9D%BC%EA%B9%8C%EC%9A%94.ipynb\" target=\"_parent\"><img src=\"https://colab.research.google.com/assets/colab-badge.svg\" alt=\"Open In Colab\"/></a>"
      ]
    },
    {
      "cell_type": "code",
      "execution_count": null,
      "metadata": {
        "id": "tAiPOr-56lzW"
      },
      "outputs": [],
      "source": [
        "import os\n",
        "import numpy as np\n",
        "import tensorflow as tf\n",
        "from tensorflow import keras\n",
        "from tensorflow.keras.utils import load_img, img_to_array\n",
        "from tensorflow.python.client import device_lib\n",
        "from sklearn.utils import shuffle"
      ]
    },
    {
      "cell_type": "markdown",
      "metadata": {
        "id": "Fo5P5Y_O7H2b"
      },
      "source": [
        "load data"
      ]
    },
    {
      "cell_type": "code",
      "execution_count": null,
      "metadata": {
        "id": "EOjVfPZp6mE1"
      },
      "outputs": [],
      "source": [
        "train_file_0= os.listdir(\"/content/drive/MyDrive/공소실 자료/archive/train_data/train_data/남성664\")\n",
        "test_file_0= os.listdir(\"/content/drive/MyDrive/공소실 자료/archive/test_data/test_data_man100\")\n",
        "train_file_1= os.listdir(\"/content/drive/MyDrive/공소실 자료/archive/train_data/train_data/여성718\")\n",
        "test_file_1= os.listdir(\"/content/drive/MyDrive/공소실 자료/archive/test_data/test_data_woman100\")"
      ]
    },
    {
      "cell_type": "code",
      "execution_count": null,
      "metadata": {
        "colab": {
          "base_uri": "https://localhost:8080/"
        },
        "id": "JHhqM_KDmeCP",
        "outputId": "f3c28669-40e9-4c03-dfb6-bdce5fb51b5b"
      },
      "outputs": [
        {
          "output_type": "stream",
          "name": "stdout",
          "text": [
            "Drive already mounted at /content/drive; to attempt to forcibly remount, call drive.mount(\"/content/drive\", force_remount=True).\n"
          ]
        }
      ],
      "source": [
        "from google.colab import drive\n",
        "drive.mount('/content/drive')"
      ]
    },
    {
      "cell_type": "markdown",
      "metadata": {
        "id": "-cxODvtU7GBJ"
      },
      "source": [
        "set train data"
      ]
    },
    {
      "cell_type": "code",
      "execution_count": null,
      "metadata": {
        "id": "I0PqF8Xb69VN"
      },
      "outputs": [],
      "source": [
        "X_train= 0\n",
        "check= False\n",
        "\n",
        "for file in train_file_0:\n",
        "    img_data= load_img(\"/content/drive/MyDrive/공소실 자료/archive/train_data/train_data/남성664/\"+file)\n",
        "    img_arr= (img_to_array(img_data))/255\n",
        "    img= img_arr.reshape((1,)+ img_arr.shape)\n",
        "\n",
        "    if(check== False):\n",
        "        X_train= img\n",
        "        check= True\n",
        "    else:\n",
        "        X_train= np.vstack((X_train, img))\n",
        "\n",
        "for file in train_file_1:\n",
        "    img_data= load_img(\"/content/drive/MyDrive/공소실 자료/archive/train_data/train_data/여성718/\"+file)\n",
        "    img_arr= (img_to_array(img_data))/255\n",
        "    img= img_arr.reshape((1,)+ img_arr.shape)\n",
        "    X_train= np.vstack((X_train, img))"
      ]
    },
    {
      "cell_type": "code",
      "execution_count": null,
      "metadata": {
        "id": "NvpxexXD6_Dj"
      },
      "outputs": [],
      "source": [
        "y_train= np.array([0]* len(train_file_0))\n",
        "y_train_1= np.array([1]* len(train_file_1))\n",
        "y_train= np.append(y_train, y_train_1)"
      ]
    },
    {
      "cell_type": "code",
      "execution_count": null,
      "metadata": {
        "id": "YIX_SVTO7AFm",
        "colab": {
          "base_uri": "https://localhost:8080/"
        },
        "outputId": "5a50475d-325d-464e-b418-ea9e0dba1341"
      },
      "outputs": [
        {
          "output_type": "stream",
          "name": "stdout",
          "text": [
            "(1382, 480, 480, 3)\n",
            "(1382,)\n"
          ]
        }
      ],
      "source": [
        "print(X_train.shape)\n",
        "print(y_train.shape)"
      ]
    },
    {
      "cell_type": "markdown",
      "metadata": {
        "id": "lGZdNI5Y7Cx1"
      },
      "source": [
        "set test data"
      ]
    },
    {
      "cell_type": "code",
      "execution_count": null,
      "metadata": {
        "id": "oBtjWOI67BFi"
      },
      "outputs": [],
      "source": [
        "X_test= 0\n",
        "check= False\n",
        "\n",
        "for file in test_file_0:\n",
        "    img_data= load_img(\"/content/drive/MyDrive/공소실 자료/archive/test_data/test_data_man100/\"+ file)\n",
        "    img_arr= (img_to_array(img_data))/255\n",
        "    img= img_arr.reshape((1,)+ img_arr.shape)\n",
        "    \n",
        "    if(check== False):\n",
        "        X_test= img\n",
        "        check= True\n",
        "    else:\n",
        "        X_test= np.vstack((X_test, img))\n",
        "        \n",
        "for file in test_file_1:\n",
        "    img_data= load_img(\"/content/drive/MyDrive/공소실 자료/archive/test_data/test_data_woman100/\"+ file)\n",
        "    img_arr= (img_to_array(img_data))/255\n",
        "    img= img_arr.reshape((1,)+ img_arr.shape)\n",
        "    X_test= np.vstack((X_test, img))"
      ]
    },
    {
      "cell_type": "code",
      "execution_count": null,
      "metadata": {
        "id": "rGZ86m3F7CLG"
      },
      "outputs": [],
      "source": [
        "y_test= np.array([0]* len(test_file_0))\n",
        "y_test_1= np.array([1]* len(test_file_1))\n",
        "y_test= np.append(y_test, y_test_1)"
      ]
    },
    {
      "cell_type": "code",
      "execution_count": null,
      "metadata": {
        "id": "QClu6pn-7M6R",
        "colab": {
          "base_uri": "https://localhost:8080/"
        },
        "outputId": "4e035fb6-4c0d-48cd-eacf-dd45f2667a2a"
      },
      "outputs": [
        {
          "output_type": "stream",
          "name": "stdout",
          "text": [
            "(200, 480, 480, 3)\n",
            "(200,)\n"
          ]
        }
      ],
      "source": [
        "print(X_test.shape)\n",
        "print(y_test.shape)"
      ]
    },
    {
      "cell_type": "code",
      "execution_count": null,
      "metadata": {
        "id": "Ld-f_Ccp7N_r"
      },
      "outputs": [],
      "source": [
        "X_train, y_train= shuffle(X_train, y_train, random_state= 42)\n",
        "X_test, y_test= shuffle(X_test, y_test, random_state= 42)"
      ]
    },
    {
      "cell_type": "markdown",
      "metadata": {
        "id": "EQGGT5eG7Qjs"
      },
      "source": [
        "save data"
      ]
    },
    {
      "cell_type": "code",
      "execution_count": null,
      "metadata": {
        "id": "lFa9t8Eo7PMb"
      },
      "outputs": [],
      "source": [
        "np.save(\"/content/drive/MyDrive/공소실 자료/dataset/X_train\", X_train)\n",
        "np.save(\"/content/drive/MyDrive/공소실 자료/dataset/y_train\", y_train)\n",
        "np.save(\"/content/drive/MyDrive/공소실 자료/dataset/X_test\", X_test)\n",
        "np.save(\"/content/drive/MyDrive/공소실 자료/dataset/y_test\", y_test)"
      ]
    },
    {
      "cell_type": "code",
      "execution_count": null,
      "metadata": {
        "id": "JDkGm5kZpphP"
      },
      "outputs": [],
      "source": [
        "import os\n",
        "import numpy as np\n",
        "import tensorflow as tf\n",
        "from tensorflow import keras\n",
        "from tensorflow.keras.utils import load_img, img_to_array\n",
        "from tensorflow.python.client import device_lib\n",
        "from sklearn.utils import shuffle"
      ]
    },
    {
      "cell_type": "markdown",
      "metadata": {
        "id": "ZL7G6Dtt7ZT8"
      },
      "source": [
        "load data"
      ]
    },
    {
      "cell_type": "code",
      "execution_count": null,
      "metadata": {
        "id": "cijq5g6M7YBx"
      },
      "outputs": [],
      "source": [
        "X_train= np.load(\"/content/drive/MyDrive/공소실 자료/dataset/X_train.npy\")\n",
        "y_train= np.load(\"/content/drive/MyDrive/공소실 자료/dataset/y_train.npy\")\n",
        "X_test= np.load(\"/content/drive/MyDrive/공소실 자료/dataset/X_test.npy\")\n",
        "y_test= np.load(\"/content/drive/MyDrive/공소실 자료/dataset/y_test.npy\")"
      ]
    },
    {
      "cell_type": "markdown",
      "metadata": {
        "id": "44acMI9u7bBa"
      },
      "source": [
        "build model"
      ]
    },
    {
      "cell_type": "code",
      "execution_count": null,
      "metadata": {
        "id": "dASckeNN7buL"
      },
      "outputs": [],
      "source": [
        "model= keras.models.Sequential()"
      ]
    },
    {
      "cell_type": "code",
      "execution_count": null,
      "metadata": {
        "id": "fcU68DtW7c-V"
      },
      "outputs": [],
      "source": [
        "model.add(keras.layers.Conv2D(64, 10, activation= \"relu\", padding= \"same\", input_shape= [480, 480, 3]))\n",
        "model.add(keras.layers.MaxPooling2D(2))\n",
        "model.add(keras.layers.Conv2D(128, 4, activation= \"relu\", padding= \"same\"))\n",
        "model.add(keras.layers.Conv2D(128, 4, activation= \"relu\", padding= \"same\"))\n",
        "model.add(keras.layers.MaxPooling2D(2))\n",
        "model.add(keras.layers.Conv2D(256, 4, activation= \"relu\", padding= \"same\"))\n",
        "model.add(keras.layers.Conv2D(256, 4, activation= \"relu\", padding= \"same\"))\n",
        "model.add(keras.layers.Flatten())\n",
        "model.add(keras.layers.Dense(128, activation= \"relu\"))\n",
        "model.add(keras.layers.Dropout(0.5))\n",
        "model.add(keras.layers.Dense(64, activation= \"relu\"))\n",
        "model.add(keras.layers.Dropout(0.5))\n",
        "model.add(keras.layers.Dense(2, activation= \"softmax\"))"
      ]
    },
    {
      "cell_type": "code",
      "execution_count": null,
      "metadata": {
        "id": "71YXtcpv7eBU",
        "colab": {
          "base_uri": "https://localhost:8080/"
        },
        "outputId": "4e4f7a33-098a-4152-aeee-58c18083a594"
      },
      "outputs": [
        {
          "output_type": "stream",
          "name": "stdout",
          "text": [
            "Model: \"sequential\"\n",
            "_________________________________________________________________\n",
            " Layer (type)                Output Shape              Param #   \n",
            "=================================================================\n",
            " conv2d (Conv2D)             (None, 480, 480, 64)      19264     \n",
            "                                                                 \n",
            " max_pooling2d (MaxPooling2D  (None, 240, 240, 64)     0         \n",
            " )                                                               \n",
            "                                                                 \n",
            " conv2d_1 (Conv2D)           (None, 240, 240, 128)     131200    \n",
            "                                                                 \n",
            " conv2d_2 (Conv2D)           (None, 240, 240, 128)     262272    \n",
            "                                                                 \n",
            " max_pooling2d_1 (MaxPooling  (None, 120, 120, 128)    0         \n",
            " 2D)                                                             \n",
            "                                                                 \n",
            " conv2d_3 (Conv2D)           (None, 120, 120, 256)     524544    \n",
            "                                                                 \n",
            " conv2d_4 (Conv2D)           (None, 120, 120, 256)     1048832   \n",
            "                                                                 \n",
            " flatten (Flatten)           (None, 3686400)           0         \n",
            "                                                                 \n",
            " dense (Dense)               (None, 128)               471859328 \n",
            "                                                                 \n",
            " dropout (Dropout)           (None, 128)               0         \n",
            "                                                                 \n",
            " dense_1 (Dense)             (None, 64)                8256      \n",
            "                                                                 \n",
            " dropout_1 (Dropout)         (None, 64)                0         \n",
            "                                                                 \n",
            " dense_2 (Dense)             (None, 2)                 130       \n",
            "                                                                 \n",
            "=================================================================\n",
            "Total params: 473,853,826\n",
            "Trainable params: 473,853,826\n",
            "Non-trainable params: 0\n",
            "_________________________________________________________________\n"
          ]
        }
      ],
      "source": [
        "model.compile(loss= \"sparse_categorical_crossentropy\", optimizer= \"sgd\", metrics= [\"accuracy\"])\n",
        "model.summary()"
      ]
    },
    {
      "cell_type": "markdown",
      "metadata": {
        "id": "hwrRVZF87gcL"
      },
      "source": [
        "train"
      ]
    },
    {
      "cell_type": "code",
      "execution_count": null,
      "metadata": {
        "id": "AqZlAkWT7hwN",
        "colab": {
          "base_uri": "https://localhost:8080/"
        },
        "outputId": "149a3759-43b5-4581-d705-62b903d810d8"
      },
      "outputs": [
        {
          "output_type": "stream",
          "name": "stdout",
          "text": [
            "Epoch 1/20\n",
            "44/44 [==============================] - 101s 2s/step - loss: 0.6926 - accuracy: 0.5116\n",
            "Epoch 2/20\n",
            "44/44 [==============================] - 78s 2s/step - loss: 0.6869 - accuracy: 0.5347\n",
            "Epoch 3/20\n",
            "44/44 [==============================] - 78s 2s/step - loss: 0.6783 - accuracy: 0.5767\n",
            "Epoch 4/20\n",
            "44/44 [==============================] - 78s 2s/step - loss: 0.6658 - accuracy: 0.5999\n",
            "Epoch 5/20\n",
            "44/44 [==============================] - 78s 2s/step - loss: 0.6667 - accuracy: 0.6129\n",
            "Epoch 6/20\n",
            "44/44 [==============================] - 78s 2s/step - loss: 0.6468 - accuracy: 0.6433\n",
            "Epoch 7/20\n",
            "44/44 [==============================] - 78s 2s/step - loss: 0.6172 - accuracy: 0.6838\n",
            "Epoch 8/20\n",
            "44/44 [==============================] - 78s 2s/step - loss: 0.6200 - accuracy: 0.6643\n",
            "Epoch 9/20\n",
            "44/44 [==============================] - 78s 2s/step - loss: 0.6461 - accuracy: 0.6548\n",
            "Epoch 10/20\n",
            "44/44 [==============================] - 78s 2s/step - loss: 0.6198 - accuracy: 0.6693\n",
            "Epoch 11/20\n",
            "44/44 [==============================] - 78s 2s/step - loss: 0.6544 - accuracy: 0.6274\n",
            "Epoch 12/20\n",
            "44/44 [==============================] - 78s 2s/step - loss: 0.6125 - accuracy: 0.6910\n",
            "Epoch 13/20\n",
            "44/44 [==============================] - 78s 2s/step - loss: 0.5532 - accuracy: 0.7482\n",
            "Epoch 14/20\n",
            "44/44 [==============================] - 78s 2s/step - loss: 0.5696 - accuracy: 0.7402\n",
            "Epoch 15/20\n",
            "44/44 [==============================] - 77s 2s/step - loss: 0.6231 - accuracy: 0.6635\n",
            "Epoch 16/20\n",
            "44/44 [==============================] - 77s 2s/step - loss: 0.6113 - accuracy: 0.6751\n",
            "Epoch 17/20\n",
            "44/44 [==============================] - 77s 2s/step - loss: 0.5968 - accuracy: 0.6889\n",
            "Epoch 18/20\n",
            "44/44 [==============================] - 77s 2s/step - loss: 0.5739 - accuracy: 0.7033\n",
            "Epoch 19/20\n",
            "44/44 [==============================] - 77s 2s/step - loss: 0.5801 - accuracy: 0.7098\n",
            "Epoch 20/20\n",
            "44/44 [==============================] - 77s 2s/step - loss: 0.5301 - accuracy: 0.7352\n"
          ]
        }
      ],
      "source": [
        "history= model.fit(X_train, y_train, epochs=20)"
      ]
    },
    {
      "cell_type": "markdown",
      "metadata": {
        "id": "9hnxtG_C7px2"
      },
      "source": [
        "check loss and accuracy"
      ]
    },
    {
      "cell_type": "code",
      "execution_count": null,
      "metadata": {
        "id": "Q5QAArWD7iow"
      },
      "outputs": [],
      "source": [
        "import pandas as pd\n",
        "import matplotlib.pyplot as plt"
      ]
    },
    {
      "cell_type": "code",
      "execution_count": null,
      "metadata": {
        "id": "rKBivrtj7tqI"
      },
      "outputs": [],
      "source": [
        "pd.DataFrame(history.history).plot(figsize= (8, 5))\n",
        "plt.grid(True)\n",
        "plt.gca().set_ylim(0, 1)\n",
        "plt.show()"
      ]
    },
    {
      "cell_type": "markdown",
      "metadata": {
        "id": "Cf-9BWgL7xM6"
      },
      "source": [
        "use test data"
      ]
    },
    {
      "cell_type": "code",
      "execution_count": null,
      "metadata": {
        "id": "YIxkgzuT70xd"
      },
      "outputs": [],
      "source": [
        "y_predicted= model.predict(X_test)\n",
        "y_pred = y_predicted.argmax(axis=-1)"
      ]
    },
    {
      "cell_type": "code",
      "execution_count": null,
      "metadata": {
        "id": "6hbevTflqlpU"
      },
      "outputs": [],
      "source": [
        "from sklearn.metrics import accuracy_score\n",
        "\n",
        "accuracy_score(y_test,y_pred)"
      ]
    },
    {
      "cell_type": "code",
      "execution_count": null,
      "metadata": {
        "id": "4QyXKcFpJWYQ"
      },
      "outputs": [],
      "source": [
        "from keras.models import load_model\n",
        "\n",
        "model.save('girl_boy_predict')"
      ]
    },
    {
      "cell_type": "code",
      "execution_count": null,
      "metadata": {
        "id": "Ba5NvjZbKKcb"
      },
      "outputs": [],
      "source": [
        "from keras.models import load_model\n",
        "model = load_model('girl_boy_predict')"
      ]
    },
    {
      "cell_type": "code",
      "execution_count": null,
      "metadata": {
        "id": "fQjHZDNtCbPu"
      },
      "outputs": [],
      "source": [
        "from keras.utils import image_utils\n",
        "\n",
        "test0= os.listdir(\"/content/drive/MyDrive/공소실 자료/archive/제목없는 폴더/남자\")\n",
        "test1= os.listdir(\"/content/drive/MyDrive/공소실 자료/archive/제목없는 폴더/여자\")\n",
        "\n",
        "X_test_what= 0\n",
        "check= False\n",
        "\n",
        "for file in test0:\n",
        "    img_data= image_utils.load_img(\"/content/drive/MyDrive/공소실 자료/archive/제목없는 폴더/남자/\"+ file)\n",
        "    img_arr= (image_utils.img_to_array(img_data))/255\n",
        "    img= img_arr.reshape((1,)+ img_arr.shape)\n",
        "    \n",
        "    if(check== False):\n",
        "        X_test_what= img\n",
        "        check= True\n",
        "    else:\n",
        "        X_test_what= np.vstack((X_test_what, img))\n",
        "        \n",
        "for file in test1:\n",
        "    img_data= image_utils.load_img(\"/content/drive/MyDrive/공소실 자료/archive/제목없는 폴더/여자/\"+ file)\n",
        "    img_arr= (image_utils.img_to_array(img_data))/255\n",
        "    img= img_arr.reshape((1,)+ img_arr.shape)\n",
        "    X_test_what= np.vstack((X_test_what, img))\n",
        "    \n",
        "\n",
        "y_test_what= np.array([0]* len(test0))\n",
        "y_test_1= np.array([1]* len(test1))\n",
        "y_test_what= np.append(y_test_what, y_test_1)"
      ]
    },
    {
      "cell_type": "code",
      "execution_count": null,
      "metadata": {
        "id": "nXvuXRiXCbSh"
      },
      "outputs": [],
      "source": [
        "y_predicted= model.predict(X_test_what)\n",
        "y_pred1 = y_predicted.argmax(axis=-1)"
      ]
    },
    {
      "cell_type": "code",
      "execution_count": null,
      "metadata": {
        "id": "3qKZVzciQMrZ"
      },
      "outputs": [],
      "source": [
        "y_pred1"
      ]
    },
    {
      "cell_type": "code",
      "execution_count": null,
      "metadata": {
        "id": "SpQWGOkDvhPS"
      },
      "outputs": [],
      "source": [
        "import matplotlib.pyplot as plt\n",
        "\n",
        "\n",
        "a=5\n",
        "\n",
        "\n",
        "plt.rcParams['figure.figsize'] = (5, 5) \n",
        "plt.imshow(X_test_what[a])\n",
        "plt.show()\n",
        "\n",
        "\n",
        "if (y_pred[a]==1):\n",
        "    print(\"예측: 여성\",accuracy_score(y_test,y_pred)*100,\"%\")\n",
        "    if(y_test_what[a]==0):\n",
        "      print(\"정답: 남성\")\n",
        "    else:\n",
        "      print(\"정답: 여성\")\n",
        "else:\n",
        "    print(\"예측: 남성\",accuracy_score(y_test,y_pred)*100,\"%\")\n",
        "    if(y_test_what[a]==0):\n",
        "      print(\"정답: 남성\")\n",
        "    else:\n",
        "      print(\"정답: 여성\")"
      ]
    },
    {
      "cell_type": "markdown",
      "metadata": {
        "id": "xrRl7s0y7_XU"
      },
      "source": [
        "check accuracy"
      ]
    },
    {
      "cell_type": "code",
      "execution_count": null,
      "metadata": {
        "id": "n9qBsu3X8Bn-"
      },
      "outputs": [],
      "source": [
        "accuracy= 0\n",
        "\n",
        "for i in range(len(y_test)):\n",
        "    if(y_test[i]== y_pred[i]):\n",
        "        accuracy+= 1\n",
        "        \n",
        "print(accuracy/len(y_test))"
      ]
    },
    {
      "cell_type": "code",
      "execution_count": null,
      "metadata": {
        "id": "BmhI251P0U2u"
      },
      "outputs": [],
      "source": []
    }
  ],
  "metadata": {
    "accelerator": "GPU",
    "colab": {
      "collapsed_sections": [],
      "machine_shape": "hm",
      "provenance": [],
      "mount_file_id": "1Q3lxPWqmRUA5_JCFLJNUhj8LpAYchhb8",
      "authorship_tag": "ABX9TyMRPSkiGGozMgabZXmfXFy1",
      "include_colab_link": true
    },
    "gpuClass": "premium",
    "kernelspec": {
      "display_name": "Python 3",
      "name": "python3"
    },
    "language_info": {
      "name": "python"
    }
  },
  "nbformat": 4,
  "nbformat_minor": 0
}
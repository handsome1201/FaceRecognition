{
 "cells": [
  {
   "cell_type": "code",
   "execution_count": 9,
   "metadata": {},
   "outputs": [],
   "source": [
    "import os\n",
    "import numpy as np\n",
    "import tensorflow as tf\n",
    "from tensorflow import keras\n",
    "from tensorflow.keras.preprocessing import image\n",
    "from tensorflow.python.client import device_lib\n",
    "from sklearn.utils import shuffle"
   ]
  },
  {
   "cell_type": "markdown",
   "metadata": {},
   "source": [
    "## load data"
   ]
  },
  {
   "cell_type": "code",
   "execution_count": 10,
   "metadata": {},
   "outputs": [],
   "source": [
    "path= \"./data/\"\n",
    "train_file_0= os.listdir(path+\"0_train\")\n",
    "test_file_0= os.listdir(path+ \"0_test\")\n",
    "train_file_1= os.listdir(path+\"1_train\")\n",
    "test_file_1= os.listdir(path+ \"1_test\")"
   ]
  },
  {
   "cell_type": "markdown",
   "metadata": {},
   "source": [
    "## set train data"
   ]
  },
  {
   "cell_type": "code",
   "execution_count": 11,
   "metadata": {},
   "outputs": [],
   "source": [
    "X_train= 0\n",
    "check= False\n",
    "\n",
    "for file in train_file_0:\n",
    "    img_data= image.load_img(path+\"0_train/\"+ file)\n",
    "    img_arr= (image.img_to_array(img_data))/255\n",
    "    img= img_arr.reshape((1,)+ img_arr.shape)\n",
    "\n",
    "    if(check== False):\n",
    "        X_train= img\n",
    "        check= True\n",
    "    else:\n",
    "        X_train= np.vstack((X_train, img))\n",
    "\n",
    "for file in train_file_1:\n",
    "    img_data= image.load_img(path+ \"1_train/\"+ file)\n",
    "    img_arr= (image.img_to_array(img_data))/255\n",
    "    img= img_arr.reshape((1,)+ img_arr.shape)\n",
    "    X_train= np.vstack((X_train, img))"
   ]
  },
  {
   "cell_type": "code",
   "execution_count": 12,
   "metadata": {},
   "outputs": [],
   "source": [
    "y_train= np.array([0]* len(train_file_0))\n",
    "y_train_1= np.array([1]* len(train_file_1))\n",
    "y_train= np.append(y_train, y_train_1)"
   ]
  },
  {
   "cell_type": "code",
   "execution_count": 13,
   "metadata": {},
   "outputs": [
    {
     "name": "stdout",
     "output_type": "stream",
     "text": [
      "(1382, 60, 60, 3)\n",
      "(1382,)\n"
     ]
    }
   ],
   "source": [
    "print(X_train.shape)\n",
    "print(y_train.shape)"
   ]
  },
  {
   "cell_type": "markdown",
   "metadata": {},
   "source": [
    "## set test data"
   ]
  },
  {
   "cell_type": "code",
   "execution_count": 14,
   "metadata": {},
   "outputs": [],
   "source": [
    "X_test= 0\n",
    "check= False\n",
    "\n",
    "for file in test_file_0:\n",
    "    img_data= image.load_img(path+\"0_test/\"+ file)\n",
    "    img_arr= (image.img_to_array(img_data))/255\n",
    "    img= img_arr.reshape((1,)+ img_arr.shape)\n",
    "    \n",
    "    if(check== False):\n",
    "        X_test= img\n",
    "        check= True\n",
    "    else:\n",
    "        X_test= np.vstack((X_test, img))\n",
    "        \n",
    "for file in test_file_1:\n",
    "    img_data= image.load_img(path+ \"1_test/\"+ file)\n",
    "    img_arr= (image.img_to_array(img_data))/255\n",
    "    img= img_arr.reshape((1,)+ img_arr.shape)\n",
    "    X_test= np.vstack((X_test, img))"
   ]
  },
  {
   "cell_type": "code",
   "execution_count": 15,
   "metadata": {},
   "outputs": [],
   "source": [
    "y_test= np.array([0]* len(test_file_0))\n",
    "y_test_1= np.array([1]* len(test_file_1))\n",
    "y_test= np.append(y_test, y_test_1)"
   ]
  },
  {
   "cell_type": "code",
   "execution_count": 16,
   "metadata": {},
   "outputs": [
    {
     "name": "stdout",
     "output_type": "stream",
     "text": [
      "(200, 60, 60, 3)\n",
      "(200,)\n"
     ]
    }
   ],
   "source": [
    "print(X_test.shape)\n",
    "print(y_test.shape)"
   ]
  },
  {
   "cell_type": "code",
   "execution_count": 17,
   "metadata": {},
   "outputs": [],
   "source": [
    "X_train, y_train= shuffle(X_train, y_train, random_state= 42)\n",
    "X_test, y_test= shuffle(X_test, y_test, random_state= 42)"
   ]
  },
  {
   "cell_type": "markdown",
   "metadata": {},
   "source": [
    "## save data"
   ]
  },
  {
   "cell_type": "code",
   "execution_count": 19,
   "metadata": {},
   "outputs": [],
   "source": [
    "np.save(\"./dataset/X_train\", X_train)\n",
    "np.save(\"./dataset/y_train\", y_train)\n",
    "np.save(\"./dataset/X_test\", X_test)\n",
    "np.save(\"./dataset/y_test\", y_test)"
   ]
  },
  {
   "cell_type": "markdown",
   "metadata": {},
   "source": [
    "## load data"
   ]
  },
  {
   "cell_type": "code",
   "execution_count": 22,
   "metadata": {},
   "outputs": [],
   "source": [
    "X_train= np.load(\"./dataset/X_train.npy\")\n",
    "y_train= np.load(\"./dataset/y_train.npy\")\n",
    "X_test= np.load(\"./dataset/X_test.npy\")\n",
    "y_test= np.load(\"./dataset/y_test.npy\")"
   ]
  },
  {
   "cell_type": "markdown",
   "metadata": {},
   "source": [
    "## build model"
   ]
  },
  {
   "cell_type": "code",
   "execution_count": 23,
   "metadata": {},
   "outputs": [],
   "source": [
    "model= keras.models.Sequential()"
   ]
  },
  {
   "cell_type": "code",
   "execution_count": 24,
   "metadata": {},
   "outputs": [],
   "source": [
    "model.add(keras.layers.Conv2D(64, 10, activation= \"relu\", padding= \"same\", input_shape= [60, 60, 3]))\n",
    "model.add(keras.layers.MaxPooling2D(2))\n",
    "model.add(keras.layers.Conv2D(128, 4, activation= \"relu\", padding= \"same\"))\n",
    "model.add(keras.layers.Conv2D(128, 4, activation= \"relu\", padding= \"same\"))\n",
    "model.add(keras.layers.MaxPooling2D(2))\n",
    "model.add(keras.layers.Conv2D(256, 4, activation= \"relu\", padding= \"same\"))\n",
    "model.add(keras.layers.Conv2D(256, 4, activation= \"relu\", padding= \"same\"))\n",
    "model.add(keras.layers.Flatten())\n",
    "model.add(keras.layers.Dense(128, activation= \"relu\"))\n",
    "model.add(keras.layers.Dropout(0.5))\n",
    "model.add(keras.layers.Dense(64, activation= \"relu\"))\n",
    "model.add(keras.layers.Dropout(0.5))\n",
    "model.add(keras.layers.Dense(2, activation= \"softmax\"))"
   ]
  },
  {
   "cell_type": "code",
   "execution_count": 25,
   "metadata": {},
   "outputs": [],
   "source": [
    "model.compile(loss= \"sparse_categorical_crossentropy\", optimizer= \"sgd\", metrics= [\"accuracy\"])"
   ]
  },
  {
   "cell_type": "code",
   "execution_count": 26,
   "metadata": {},
   "outputs": [
    {
     "name": "stdout",
     "output_type": "stream",
     "text": [
      "Model: \"sequential\"\n",
      "_________________________________________________________________\n",
      "Layer (type)                 Output Shape              Param #   \n",
      "=================================================================\n",
      "conv2d (Conv2D)              (None, 60, 60, 64)        19264     \n",
      "_________________________________________________________________\n",
      "max_pooling2d (MaxPooling2D) (None, 30, 30, 64)        0         \n",
      "_________________________________________________________________\n",
      "conv2d_1 (Conv2D)            (None, 30, 30, 128)       131200    \n",
      "_________________________________________________________________\n",
      "conv2d_2 (Conv2D)            (None, 30, 30, 128)       262272    \n",
      "_________________________________________________________________\n",
      "max_pooling2d_1 (MaxPooling2 (None, 15, 15, 128)       0         \n",
      "_________________________________________________________________\n",
      "conv2d_3 (Conv2D)            (None, 15, 15, 256)       524544    \n",
      "_________________________________________________________________\n",
      "conv2d_4 (Conv2D)            (None, 15, 15, 256)       1048832   \n",
      "_________________________________________________________________\n",
      "flatten (Flatten)            (None, 57600)             0         \n",
      "_________________________________________________________________\n",
      "dense (Dense)                (None, 128)               7372928   \n",
      "_________________________________________________________________\n",
      "dropout (Dropout)            (None, 128)               0         \n",
      "_________________________________________________________________\n",
      "dense_1 (Dense)              (None, 64)                8256      \n",
      "_________________________________________________________________\n",
      "dropout_1 (Dropout)          (None, 64)                0         \n",
      "_________________________________________________________________\n",
      "dense_2 (Dense)              (None, 2)                 130       \n",
      "=================================================================\n",
      "Total params: 9,367,426\n",
      "Trainable params: 9,367,426\n",
      "Non-trainable params: 0\n",
      "_________________________________________________________________\n"
     ]
    }
   ],
   "source": [
    "model.summary()"
   ]
  },
  {
   "cell_type": "markdown",
   "metadata": {},
   "source": [
    "## train"
   ]
  },
  {
   "cell_type": "code",
   "execution_count": 27,
   "metadata": {},
   "outputs": [
    {
     "name": "stdout",
     "output_type": "stream",
     "text": [
      "Epoch 1/30\n",
      "44/44 [==============================] - 25s 559ms/step - loss: 0.6904 - accuracy: 0.5224\n",
      "Epoch 2/30\n",
      "44/44 [==============================] - 25s 573ms/step - loss: 0.6892 - accuracy: 0.5355\n",
      "Epoch 3/30\n",
      "44/44 [==============================] - 26s 596ms/step - loss: 0.6863 - accuracy: 0.5441\n",
      "Epoch 4/30\n",
      "44/44 [==============================] - 24s 547ms/step - loss: 0.6786 - accuracy: 0.5695\n",
      "Epoch 5/30\n",
      "44/44 [==============================] - 24s 547ms/step - loss: 0.6746 - accuracy: 0.5767\n",
      "Epoch 6/30\n",
      "44/44 [==============================] - 24s 545ms/step - loss: 0.6662 - accuracy: 0.6122\n",
      "Epoch 7/30\n",
      "44/44 [==============================] - 24s 546ms/step - loss: 0.6563 - accuracy: 0.6288\n",
      "Epoch 8/30\n",
      "44/44 [==============================] - 24s 546ms/step - loss: 0.6370 - accuracy: 0.6397\n",
      "Epoch 9/30\n",
      "44/44 [==============================] - 24s 544ms/step - loss: 0.6383 - accuracy: 0.6606\n",
      "Epoch 10/30\n",
      "44/44 [==============================] - 24s 547ms/step - loss: 0.6149 - accuracy: 0.6889\n",
      "Epoch 11/30\n",
      "44/44 [==============================] - 24s 552ms/step - loss: 0.5912 - accuracy: 0.7041\n",
      "Epoch 12/30\n",
      "44/44 [==============================] - 24s 546ms/step - loss: 0.5590 - accuracy: 0.7236\n",
      "Epoch 13/30\n",
      "44/44 [==============================] - 24s 545ms/step - loss: 0.5313 - accuracy: 0.7583\n",
      "Epoch 14/30\n",
      "44/44 [==============================] - 25s 568ms/step - loss: 0.5002 - accuracy: 0.7735\n",
      "Epoch 15/30\n",
      "44/44 [==============================] - 26s 588ms/step - loss: 0.4501 - accuracy: 0.7967\n",
      "Epoch 16/30\n",
      "44/44 [==============================] - 26s 584ms/step - loss: 0.4287 - accuracy: 0.8205\n",
      "Epoch 17/30\n",
      "44/44 [==============================] - 24s 546ms/step - loss: 0.4327 - accuracy: 0.8191\n",
      "Epoch 18/30\n",
      "44/44 [==============================] - 24s 544ms/step - loss: 0.3486 - accuracy: 0.8596\n",
      "Epoch 19/30\n",
      "44/44 [==============================] - 24s 545ms/step - loss: 0.3279 - accuracy: 0.8669\n",
      "Epoch 20/30\n",
      "44/44 [==============================] - 24s 546ms/step - loss: 0.2974 - accuracy: 0.8915\n",
      "Epoch 21/30\n",
      "44/44 [==============================] - 24s 544ms/step - loss: 0.2602 - accuracy: 0.9103\n",
      "Epoch 22/30\n",
      "44/44 [==============================] - 24s 549ms/step - loss: 0.2718 - accuracy: 0.8980\n",
      "Epoch 23/30\n",
      "44/44 [==============================] - 24s 545ms/step - loss: 0.2539 - accuracy: 0.9059\n",
      "Epoch 24/30\n",
      "44/44 [==============================] - 24s 544ms/step - loss: 0.2314 - accuracy: 0.9146\n",
      "Epoch 25/30\n",
      "44/44 [==============================] - 24s 546ms/step - loss: 0.1966 - accuracy: 0.9276\n",
      "Epoch 26/30\n",
      "44/44 [==============================] - 24s 547ms/step - loss: 0.1934 - accuracy: 0.9276\n",
      "Epoch 27/30\n",
      "44/44 [==============================] - 25s 562ms/step - loss: 0.1914 - accuracy: 0.9305\n",
      "Epoch 28/30\n",
      "44/44 [==============================] - 24s 547ms/step - loss: 0.1769 - accuracy: 0.9378\n",
      "Epoch 29/30\n",
      "44/44 [==============================] - 24s 546ms/step - loss: 0.1574 - accuracy: 0.9501\n",
      "Epoch 30/30\n",
      "44/44 [==============================] - 24s 546ms/step - loss: 0.1535 - accuracy: 0.9436\n"
     ]
    }
   ],
   "source": [
    "history= model.fit(X_train, y_train, epochs= 30)"
   ]
  },
  {
   "cell_type": "markdown",
   "metadata": {},
   "source": [
    "## check loss and accuracy"
   ]
  },
  {
   "cell_type": "code",
   "execution_count": 28,
   "metadata": {},
   "outputs": [],
   "source": [
    "import pandas as pd\n",
    "import matplotlib.pyplot as plt"
   ]
  },
  {
   "cell_type": "code",
   "execution_count": 29,
   "metadata": {},
   "outputs": [
    {
     "data": {
      "image/png": "[encoded data removed]",
      "text/plain": [
       "<Figure size 576x360 with 1 Axes>"
      ]
     },
     "metadata": {
      "needs_background": "light"
     },
     "output_type": "display_data"
    }
   ],
   "source": [
    "pd.DataFrame(history.history).plot(figsize= (8, 5))\n",
    "plt.grid(True)\n",
    "plt.gca().set_ylim(0, 1)\n",
    "plt.show()"
   ]
  },
  {
   "cell_type": "markdown",
   "metadata": {},
   "source": [
    "## use test data"
   ]
  },
  {
   "cell_type": "code",
   "execution_count": 30,
   "metadata": {},
   "outputs": [
    {
     "name": "stdout",
     "output_type": "stream",
     "text": [
      "WARNING:tensorflow:From <ipython-input-30-4d560063aeef>:1: Sequential.predict_classes (from tensorflow.python.keras.engine.sequential) is deprecated and will be removed after 2021-01-01.\n",
      "Instructions for updating:\n",
      "Please use instead:* `np.argmax(model.predict(x), axis=-1)`,   if your model does multi-class classification   (e.g. if it uses a `softmax` last-layer activation).* `(model.predict(x) > 0.5).astype(\"int32\")`,   if your model does binary classification   (e.g. if it uses a `sigmoid` last-layer activation).\n"
     ]
    },
    {
     "data": {
      "text/plain": [
       "array([0, 0, 0, 1, 1, 1, 0, 1, 1, 0, 0, 1, 1, 0, 1, 1, 0, 1, 0, 0, 1, 0,\n",
       "       1, 0, 0, 0, 1, 0, 1, 1, 0, 0, 0, 0, 1, 1, 1, 1, 1, 0, 0, 1, 0, 0,\n",
       "       1, 1, 0, 0, 1, 1, 1, 1, 0, 0, 1, 0, 1, 0, 1, 0, 1, 0, 0, 0, 0, 1,\n",
       "       0, 1, 0, 1, 0, 1, 1, 0, 1, 1, 0, 1, 1, 1, 0, 0, 0, 1, 1, 0, 1, 1,\n",
       "       1, 0, 0, 1, 1, 0, 0, 1, 1, 1, 1, 1, 0, 0, 1, 1, 1, 1, 0, 0, 1, 1,\n",
       "       1, 0, 1, 1, 0, 1, 0, 0, 1, 0, 0, 1, 1, 1, 0, 0, 1, 1, 0, 0, 1, 1,\n",
       "       0, 1, 0, 1, 0, 1, 0, 1, 1, 1, 1, 0, 0, 0, 0, 1, 0, 0, 1, 1, 0, 1,\n",
       "       0, 0, 1, 1, 1, 0, 1, 1, 1, 1, 0, 0, 1, 0, 1, 0, 0, 0, 0, 0, 1, 1,\n",
       "       1, 1, 1, 1, 0, 0, 1, 1, 1, 1, 0, 1, 0, 0, 1, 1, 0, 1, 0, 1, 0, 0,\n",
       "       1, 1], dtype=int64)"
      ]
     },
     "execution_count": 30,
     "metadata": {},
     "output_type": "execute_result"
    }
   ],
   "source": [
    "y_pred= model.predict_classes(X_test)\n",
    "y_pred"
   ]
  },
  {
   "cell_type": "code",
   "execution_count": 31,
   "metadata": {},
   "outputs": [
    {
     "data": {
      "text/plain": [
       "array([0, 0, 0, 1, 1, 1, 0, 1, 1, 0, 0, 1, 1, 0, 1, 1, 0, 1, 0, 0, 1, 0,\n",
       "       1, 0, 0, 0, 0, 0, 1, 1, 0, 0, 0, 0, 1, 1, 1, 1, 1, 0, 0, 1, 0, 0,\n",
       "       1, 1, 0, 0, 1, 0, 1, 1, 0, 1, 1, 0, 1, 0, 1, 0, 1, 0, 0, 0, 0, 1,\n",
       "       0, 1, 0, 1, 0, 1, 1, 0, 1, 1, 0, 1, 1, 1, 0, 0, 0, 1, 1, 0, 1, 0,\n",
       "       1, 0, 0, 1, 1, 0, 0, 1, 1, 0, 0, 1, 0, 0, 1, 1, 1, 1, 0, 0, 1, 1,\n",
       "       1, 0, 1, 1, 0, 1, 0, 0, 1, 0, 0, 1, 1, 1, 0, 0, 1, 1, 0, 0, 1, 0,\n",
       "       0, 1, 0, 1, 0, 1, 0, 1, 1, 1, 1, 0, 0, 0, 0, 1, 0, 0, 1, 1, 0, 0,\n",
       "       0, 0, 1, 1, 0, 0, 1, 1, 1, 1, 0, 0, 1, 0, 1, 0, 0, 0, 0, 0, 1, 1,\n",
       "       1, 0, 1, 1, 0, 0, 1, 1, 1, 1, 0, 1, 0, 0, 1, 1, 0, 1, 0, 1, 0, 0,\n",
       "       1, 1])"
      ]
     },
     "execution_count": 31,
     "metadata": {},
     "output_type": "execute_result"
    }
   ],
   "source": [
    "y_test"
   ]
  },
  {
   "cell_type": "markdown",
   "metadata": {},
   "source": [
    "## check accuracy"
   ]
  },
  {
   "cell_type": "code",
   "execution_count": 33,
   "metadata": {},
   "outputs": [
    {
     "name": "stdout",
     "output_type": "stream",
     "text": [
      "accuracy:  0.95\n"
     ]
    }
   ],
   "source": [
    "accuracy= 0\n",
    "\n",
    "for i in range(len(y_test)):\n",
    "    if(y_test[i]== y_pred[i]):\n",
    "        accuracy+= 1\n",
    "        \n",
    "print(\"accuracy: \", accuracy/len(y_test))"
   ]
  },
  {
   "cell_type": "code",
   "execution_count": null,
   "metadata": {},
   "outputs": [],
   "source": []
  }
 ],
 "metadata": {
  "kernelspec": {
   "display_name": "Python 3",
   "language": "python",
   "name": "python3"
  },
  "language_info": {
   "codemirror_mode": {
    "name": "ipython",
    "version": 3
   },
   "file_extension": ".py",
   "mimetype": "text/x-python",
   "name": "python",
   "nbconvert_exporter": "python",
   "pygments_lexer": "ipython3",
   "version": "3.6.8"
  }
 },
 "nbformat": 4,
 "nbformat_minor": 4
}

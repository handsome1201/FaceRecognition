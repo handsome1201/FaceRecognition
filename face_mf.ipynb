{
 "cells": [
  {
   "cell_type": "code",
   "execution_count": 32,
   "metadata": {},
   "outputs": [],
   "source": [
    "import os\n",
    "import numpy as np\n",
    "import tensorflow as tf\n",
    "from tensorflow import keras\n",
    "from tensorflow.keras.preprocessing import image\n",
    "from tensorflow.python.client import device_lib\n",
    "from sklearn.utils import shuffle"
   ]
  },
  {
   "cell_type": "markdown",
   "metadata": {},
   "source": [
    "## load data"
   ]
  },
  {
   "cell_type": "code",
   "execution_count": 33,
   "metadata": {},
   "outputs": [],
   "source": [
    "path= \"./data/\"\n",
    "train_file_0= os.listdir(path+\"0_train\")\n",
    "test_file_0= os.listdir(path+ \"0_test\")\n",
    "train_file_1= os.listdir(path+\"1_train\")\n",
    "test_file_1= os.listdir(path+ \"1_test\")"
   ]
  },
  {
   "cell_type": "markdown",
   "metadata": {},
   "source": [
    "## set train data"
   ]
  },
  {
   "cell_type": "code",
   "execution_count": 34,
   "metadata": {},
   "outputs": [],
   "source": [
    "X_train= 0\n",
    "check= False\n",
    "\n",
    "for file in train_file_0:\n",
    "    img_data= image.load_img(path+\"0_train/\"+ file)\n",
    "    img_arr= (image.img_to_array(img_data))/255\n",
    "    img= img_arr.reshape((1,)+ img_arr.shape)\n",
    "\n",
    "    if(check== False):\n",
    "        X_train= img\n",
    "        check= True\n",
    "    else:\n",
    "        X_train= np.vstack((X_train, img))\n",
    "\n",
    "for file in train_file_1:\n",
    "    img_data= image.load_img(path+ \"1_train/\"+ file)\n",
    "    img_arr= (image.img_to_array(img_data))/255\n",
    "    img= img_arr.reshape((1,)+ img_arr.shape)\n",
    "    X_train= np.vstack((X_train, img))"
   ]
  },
  {
   "cell_type": "code",
   "execution_count": 35,
   "metadata": {},
   "outputs": [],
   "source": [
    "y_train= np.array([0]* len(train_file_0))\n",
    "y_train_1= np.array([1]* len(train_file_1))\n",
    "y_train= np.append(y_train, y_train_1)"
   ]
  },
  {
   "cell_type": "code",
   "execution_count": 36,
   "metadata": {},
   "outputs": [
    {
     "name": "stdout",
     "output_type": "stream",
     "text": [
      "(1382, 60, 60, 3)\n",
      "(1382,)\n"
     ]
    }
   ],
   "source": [
    "print(X_train.shape)\n",
    "print(y_train.shape)"
   ]
  },
  {
   "cell_type": "markdown",
   "metadata": {},
   "source": [
    "## set test data"
   ]
  },
  {
   "cell_type": "code",
   "execution_count": 37,
   "metadata": {},
   "outputs": [],
   "source": [
    "X_test= 0\n",
    "check= False\n",
    "\n",
    "for file in test_file_0:\n",
    "    img_data= image.load_img(path+\"0_test/\"+ file)\n",
    "    img_arr= (image.img_to_array(img_data))/255\n",
    "    img= img_arr.reshape((1,)+ img_arr.shape)\n",
    "    \n",
    "    if(check== False):\n",
    "        X_test= img\n",
    "        check= True\n",
    "    else:\n",
    "        X_test= np.vstack((X_test, img))\n",
    "        \n",
    "for file in test_file_1:\n",
    "    img_data= image.load_img(path+ \"1_test/\"+ file)\n",
    "    img_arr= (image.img_to_array(img_data))/255\n",
    "    img= img_arr.reshape((1,)+ img_arr.shape)\n",
    "    X_test= np.vstack((X_test, img))"
   ]
  },
  {
   "cell_type": "code",
   "execution_count": 38,
   "metadata": {},
   "outputs": [],
   "source": [
    "y_test= np.array([0]* len(test_file_0))\n",
    "y_test_1= np.array([1]* len(test_file_1))\n",
    "y_test= np.append(y_test, y_test_1)"
   ]
  },
  {
   "cell_type": "code",
   "execution_count": 39,
   "metadata": {},
   "outputs": [
    {
     "name": "stdout",
     "output_type": "stream",
     "text": [
      "(200, 60, 60, 3)\n",
      "(200,)\n"
     ]
    }
   ],
   "source": [
    "print(X_test.shape)\n",
    "print(y_test.shape)"
   ]
  },
  {
   "cell_type": "code",
   "execution_count": 40,
   "metadata": {},
   "outputs": [],
   "source": [
    "X_train, y_train= shuffle(X_train, y_train, random_state= 42)\n",
    "X_test, y_test= shuffle(X_test, y_test, random_state= 42)"
   ]
  },
  {
   "cell_type": "markdown",
   "metadata": {},
   "source": [
    "## build model"
   ]
  },
  {
   "cell_type": "code",
   "execution_count": 41,
   "metadata": {},
   "outputs": [],
   "source": [
    "model= keras.models.Sequential()"
   ]
  },
  {
   "cell_type": "code",
   "execution_count": 42,
   "metadata": {},
   "outputs": [],
   "source": [
    "model.add(keras.layers.Conv2D(64, 10, activation= \"relu\", padding= \"same\", input_shape= [60, 60, 3]))\n",
    "model.add(keras.layers.MaxPooling2D(2))\n",
    "model.add(keras.layers.Conv2D(128, 4, activation= \"relu\", padding= \"same\"))\n",
    "model.add(keras.layers.Conv2D(128, 4, activation= \"relu\", padding= \"same\"))\n",
    "model.add(keras.layers.MaxPooling2D(2))\n",
    "model.add(keras.layers.Conv2D(256, 4, activation= \"relu\", padding= \"same\"))\n",
    "model.add(keras.layers.Conv2D(256, 4, activation= \"relu\", padding= \"same\"))\n",
    "model.add(keras.layers.Flatten())\n",
    "model.add(keras.layers.Dense(128, activation= \"relu\"))\n",
    "model.add(keras.layers.Dropout(0.5))\n",
    "model.add(keras.layers.Dense(64, activation= \"relu\"))\n",
    "model.add(keras.layers.Dropout(0.5))\n",
    "model.add(keras.layers.Dense(2, activation= \"softmax\"))"
   ]
  },
  {
   "cell_type": "code",
   "execution_count": 43,
   "metadata": {},
   "outputs": [],
   "source": [
    "model.compile(loss= \"sparse_categorical_crossentropy\", optimizer= \"sgd\", metrics= [\"accuracy\"])"
   ]
  },
  {
   "cell_type": "code",
   "execution_count": 44,
   "metadata": {},
   "outputs": [
    {
     "name": "stdout",
     "output_type": "stream",
     "text": [
      "Model: \"sequential_1\"\n",
      "_________________________________________________________________\n",
      "Layer (type)                 Output Shape              Param #   \n",
      "=================================================================\n",
      "conv2d_6 (Conv2D)            (None, 60, 60, 64)        19264     \n",
      "_________________________________________________________________\n",
      "max_pooling2d_2 (MaxPooling2 (None, 30, 30, 64)        0         \n",
      "_________________________________________________________________\n",
      "conv2d_7 (Conv2D)            (None, 30, 30, 128)       131200    \n",
      "_________________________________________________________________\n",
      "conv2d_8 (Conv2D)            (None, 30, 30, 128)       262272    \n",
      "_________________________________________________________________\n",
      "max_pooling2d_3 (MaxPooling2 (None, 15, 15, 128)       0         \n",
      "_________________________________________________________________\n",
      "conv2d_9 (Conv2D)            (None, 15, 15, 256)       524544    \n",
      "_________________________________________________________________\n",
      "conv2d_10 (Conv2D)           (None, 15, 15, 256)       1048832   \n",
      "_________________________________________________________________\n",
      "flatten_1 (Flatten)          (None, 57600)             0         \n",
      "_________________________________________________________________\n",
      "dense_3 (Dense)              (None, 128)               7372928   \n",
      "_________________________________________________________________\n",
      "dropout_2 (Dropout)          (None, 128)               0         \n",
      "_________________________________________________________________\n",
      "dense_4 (Dense)              (None, 64)                8256      \n",
      "_________________________________________________________________\n",
      "dropout_3 (Dropout)          (None, 64)                0         \n",
      "_________________________________________________________________\n",
      "dense_5 (Dense)              (None, 2)                 130       \n",
      "=================================================================\n",
      "Total params: 9,367,426\n",
      "Trainable params: 9,367,426\n",
      "Non-trainable params: 0\n",
      "_________________________________________________________________\n"
     ]
    }
   ],
   "source": [
    "model.summary()"
   ]
  },
  {
   "cell_type": "markdown",
   "metadata": {},
   "source": [
    "## train"
   ]
  },
  {
   "cell_type": "code",
   "execution_count": 45,
   "metadata": {},
   "outputs": [
    {
     "name": "stdout",
     "output_type": "stream",
     "text": [
      "Epoch 1/30\n",
      "44/44 [==============================] - 23s 519ms/step - loss: 0.6917 - accuracy: 0.5304\n",
      "Epoch 2/30\n",
      "44/44 [==============================] - 23s 515ms/step - loss: 0.6888 - accuracy: 0.5297\n",
      "Epoch 3/30\n",
      "44/44 [==============================] - 23s 513ms/step - loss: 0.6858 - accuracy: 0.5485\n",
      "Epoch 4/30\n",
      "44/44 [==============================] - 23s 515ms/step - loss: 0.6833 - accuracy: 0.5810\n",
      "Epoch 5/30\n",
      "44/44 [==============================] - 24s 551ms/step - loss: 0.6653 - accuracy: 0.6027\n",
      "Epoch 6/30\n",
      "44/44 [==============================] - 23s 519ms/step - loss: 0.6633 - accuracy: 0.6035\n",
      "Epoch 7/30\n",
      "44/44 [==============================] - 23s 517ms/step - loss: 0.6535 - accuracy: 0.6237\n",
      "Epoch 8/30\n",
      "44/44 [==============================] - 23s 515ms/step - loss: 0.6387 - accuracy: 0.6469\n",
      "Epoch 9/30\n",
      "44/44 [==============================] - 23s 525ms/step - loss: 0.6110 - accuracy: 0.6795\n",
      "Epoch 10/30\n",
      "44/44 [==============================] - 23s 512ms/step - loss: 0.5932 - accuracy: 0.7004\n",
      "Epoch 11/30\n",
      "44/44 [==============================] - 23s 512ms/step - loss: 0.5795 - accuracy: 0.7055\n",
      "Epoch 12/30\n",
      "44/44 [==============================] - 22s 511ms/step - loss: 0.5476 - accuracy: 0.7279\n",
      "Epoch 13/30\n",
      "44/44 [==============================] - 23s 512ms/step - loss: 0.5262 - accuracy: 0.7619\n",
      "Epoch 14/30\n",
      "44/44 [==============================] - 22s 511ms/step - loss: 0.4962 - accuracy: 0.7851\n",
      "Epoch 15/30\n",
      "44/44 [==============================] - 23s 512ms/step - loss: 0.4640 - accuracy: 0.8017\n",
      "Epoch 16/30\n",
      "44/44 [==============================] - 22s 511ms/step - loss: 0.4264 - accuracy: 0.8169\n",
      "Epoch 17/30\n",
      "44/44 [==============================] - 23s 512ms/step - loss: 0.4117 - accuracy: 0.8314\n",
      "Epoch 18/30\n",
      "44/44 [==============================] - 23s 514ms/step - loss: 0.3579 - accuracy: 0.8437\n",
      "Epoch 19/30\n",
      "44/44 [==============================] - 23s 512ms/step - loss: 0.3234 - accuracy: 0.8835\n",
      "Epoch 20/30\n",
      "44/44 [==============================] - 23s 512ms/step - loss: 0.3239 - accuracy: 0.8647\n",
      "Epoch 21/30\n",
      "44/44 [==============================] - 23s 514ms/step - loss: 0.2809 - accuracy: 0.8915\n",
      "Epoch 22/30\n",
      "44/44 [==============================] - 23s 512ms/step - loss: 0.2592 - accuracy: 0.9030\n",
      "Epoch 23/30\n",
      "44/44 [==============================] - 23s 516ms/step - loss: 0.2400 - accuracy: 0.9204\n",
      "Epoch 24/30\n",
      "44/44 [==============================] - 23s 513ms/step - loss: 0.2272 - accuracy: 0.9103\n",
      "Epoch 25/30\n",
      "44/44 [==============================] - 23s 513ms/step - loss: 0.2257 - accuracy: 0.9153\n",
      "Epoch 26/30\n",
      "44/44 [==============================] - 23s 513ms/step - loss: 0.1893 - accuracy: 0.9342\n",
      "Epoch 27/30\n",
      "44/44 [==============================] - 23s 512ms/step - loss: 0.1914 - accuracy: 0.9313\n",
      "Epoch 28/30\n",
      "44/44 [==============================] - 23s 514ms/step - loss: 0.1660 - accuracy: 0.9363\n",
      "Epoch 29/30\n",
      "44/44 [==============================] - 23s 512ms/step - loss: 0.1638 - accuracy: 0.9421\n",
      "Epoch 30/30\n",
      "44/44 [==============================] - 23s 513ms/step - loss: 0.1617 - accuracy: 0.9450\n"
     ]
    }
   ],
   "source": [
    "history= model.fit(X_train, y_train, epochs= 30)"
   ]
  },
  {
   "cell_type": "markdown",
   "metadata": {},
   "source": [
    "## check loss and accuracy"
   ]
  },
  {
   "cell_type": "code",
   "execution_count": 51,
   "metadata": {},
   "outputs": [],
   "source": [
    "import pandas as pd\n",
    "import matplotlib.pyplot as plt"
   ]
  },
  {
   "cell_type": "code",
   "execution_count": 52,
   "metadata": {},
   "outputs": [
    {
     "data": {
      "image/png": "[encoded data removed]",
      "text/plain": [
       "<Figure size 576x360 with 1 Axes>"
      ]
     },
     "metadata": {
      "needs_background": "light"
     },
     "output_type": "display_data"
    }
   ],
   "source": [
    "pd.DataFrame(history.history).plot(figsize= (8, 5))\n",
    "plt.grid(True)\n",
    "plt.gca().set_ylim(0, 1)\n",
    "plt.show()"
   ]
  },
  {
   "cell_type": "markdown",
   "metadata": {},
   "source": [
    "## use test data"
   ]
  },
  {
   "cell_type": "code",
   "execution_count": 53,
   "metadata": {},
   "outputs": [
    {
     "data": {
      "text/plain": [
       "array([0, 0, 0, 1, 1, 1, 0, 1, 1, 0, 0, 1, 1, 0, 1, 1, 1, 1, 0, 0, 1, 0,\n",
       "       1, 0, 0, 0, 1, 0, 1, 1, 0, 0, 0, 0, 1, 1, 1, 1, 1, 0, 0, 1, 0, 0,\n",
       "       1, 0, 0, 0, 1, 1, 1, 1, 0, 0, 1, 0, 1, 0, 1, 0, 1, 0, 0, 0, 0, 1,\n",
       "       0, 1, 0, 1, 0, 1, 1, 0, 1, 1, 0, 1, 1, 1, 0, 0, 0, 1, 1, 0, 1, 1,\n",
       "       1, 0, 0, 1, 1, 0, 0, 1, 1, 1, 1, 1, 0, 0, 1, 1, 1, 1, 0, 0, 1, 0,\n",
       "       1, 0, 1, 1, 0, 1, 0, 0, 1, 0, 0, 0, 1, 0, 0, 1, 1, 1, 0, 0, 0, 1,\n",
       "       0, 1, 0, 1, 0, 1, 0, 1, 1, 1, 1, 0, 0, 0, 0, 1, 0, 0, 1, 1, 0, 1,\n",
       "       0, 0, 1, 1, 1, 0, 1, 1, 1, 1, 0, 1, 1, 0, 1, 0, 0, 0, 1, 0, 1, 1,\n",
       "       1, 0, 1, 1, 0, 0, 1, 1, 1, 1, 0, 1, 1, 0, 1, 1, 0, 1, 0, 1, 0, 0,\n",
       "       1, 1], dtype=int64)"
      ]
     },
     "execution_count": 53,
     "metadata": {},
     "output_type": "execute_result"
    }
   ],
   "source": [
    "y_pred= model.predict_classes(X_test)\n",
    "y_pred"
   ]
  },
  {
   "cell_type": "code",
   "execution_count": 54,
   "metadata": {},
   "outputs": [
    {
     "data": {
      "text/plain": [
       "array([0, 0, 0, 1, 1, 1, 0, 1, 1, 0, 0, 1, 1, 0, 1, 1, 0, 1, 0, 0, 1, 0,\n",
       "       1, 0, 0, 0, 0, 0, 1, 1, 0, 0, 0, 0, 1, 1, 1, 1, 1, 0, 0, 1, 0, 0,\n",
       "       1, 1, 0, 0, 1, 0, 1, 1, 0, 1, 1, 0, 1, 0, 1, 0, 1, 0, 0, 0, 0, 1,\n",
       "       0, 1, 0, 1, 0, 1, 1, 0, 1, 1, 0, 1, 1, 1, 0, 0, 0, 1, 1, 0, 1, 0,\n",
       "       1, 0, 0, 1, 1, 0, 0, 1, 1, 0, 0, 1, 0, 0, 1, 1, 1, 1, 0, 0, 1, 1,\n",
       "       1, 0, 1, 1, 0, 1, 0, 0, 1, 0, 0, 1, 1, 1, 0, 0, 1, 1, 0, 0, 1, 0,\n",
       "       0, 1, 0, 1, 0, 1, 0, 1, 1, 1, 1, 0, 0, 0, 0, 1, 0, 0, 1, 1, 0, 0,\n",
       "       0, 0, 1, 1, 0, 0, 1, 1, 1, 1, 0, 0, 1, 0, 1, 0, 0, 0, 0, 0, 1, 1,\n",
       "       1, 0, 1, 1, 0, 0, 1, 1, 1, 1, 0, 1, 0, 0, 1, 1, 0, 1, 0, 1, 0, 0,\n",
       "       1, 1])"
      ]
     },
     "execution_count": 54,
     "metadata": {},
     "output_type": "execute_result"
    }
   ],
   "source": [
    "y_test"
   ]
  },
  {
   "cell_type": "markdown",
   "metadata": {},
   "source": [
    "## check accuracy"
   ]
  },
  {
   "cell_type": "code",
   "execution_count": 55,
   "metadata": {},
   "outputs": [
    {
     "name": "stdout",
     "output_type": "stream",
     "text": [
      "accuracy:  0.905\n"
     ]
    }
   ],
   "source": [
    "accuracy= 0\n",
    "\n",
    "for i in range(len(y_test)):\n",
    "    if(y_test[i]== y_pred[i]):\n",
    "        accuracy+= 1\n",
    "        \n",
    "print(\"accuracy: \", accuracy/len(y_test))"
   ]
  },
  {
   "cell_type": "code",
   "execution_count": null,
   "metadata": {},
   "outputs": [],
   "source": []
  }
 ],
 "metadata": {
  "kernelspec": {
   "display_name": "Python 3",
   "language": "python",
   "name": "python3"
  },
  "language_info": {
   "codemirror_mode": {
    "name": "ipython",
    "version": 3
   },
   "file_extension": ".py",
   "mimetype": "text/x-python",
   "name": "python",
   "nbconvert_exporter": "python",
   "pygments_lexer": "ipython3",
   "version": "3.6.8"
  }
 },
 "nbformat": 4,
 "nbformat_minor": 4
}
